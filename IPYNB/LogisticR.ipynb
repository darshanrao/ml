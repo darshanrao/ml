{
  "cells": [
    {
      "cell_type": "code",
      "execution_count": null,
      "metadata": {
        "id": "SMVK3IAe_Dlp"
      },
      "outputs": [],
      "source": [
        "import numpy as np\n",
        "import matplotlib.pyplot as plt"
      ]
    },
    {
      "cell_type": "code",
      "execution_count": null,
      "metadata": {
        "id": "EFAB-99A_Dlt"
      },
      "outputs": [],
      "source": [
        "def sigmoid(x):\n",
        "    return (1/(1+ np.exp(-x)))"
      ]
    },
    {
      "cell_type": "code",
      "execution_count": null,
      "metadata": {
        "id": "53yyz3uh_Dlu"
      },
      "outputs": [],
      "source": [
        "x = np.linspace(-1,1,100)"
      ]
    },
    {
      "cell_type": "code",
      "execution_count": null,
      "metadata": {
        "id": "wPUJ1wpE_Dlv",
        "outputId": "b49f1d60-a0fe-4e99-cd6f-f464f816429b",
        "colab": {
          "base_uri": "https://localhost:8080/"
        }
      },
      "outputs": [
        {
          "output_type": "execute_result",
          "data": {
            "text/plain": [
              "array([0.26894142, 0.27293187, 0.2769591 , 0.28102278, 0.28512257,\n",
              "       0.28925812, 0.29342902, 0.29763488, 0.30187528, 0.30614975,\n",
              "       0.31045783, 0.31479902, 0.31917283, 0.3235787 , 0.32801609,\n",
              "       0.33248443, 0.33698311, 0.34151151, 0.34606901, 0.35065493,\n",
              "       0.35526862, 0.35990936, 0.36457644, 0.36926913, 0.37398667,\n",
              "       0.37872829, 0.3834932 , 0.38828059, 0.39308964, 0.3979195 ,\n",
              "       0.40276933, 0.40763825, 0.41252537, 0.41742979, 0.42235061,\n",
              "       0.42728688, 0.43223768, 0.43720205, 0.44217903, 0.44716765,\n",
              "       0.45216693, 0.45717588, 0.46219351, 0.46721881, 0.47225076,\n",
              "       0.47728837, 0.48233059, 0.48737642, 0.49242482, 0.49747477,\n",
              "       0.50252523, 0.50757518, 0.51262358, 0.51766941, 0.52271163,\n",
              "       0.52774924, 0.53278119, 0.53780649, 0.54282412, 0.54783307,\n",
              "       0.55283235, 0.55782097, 0.56279795, 0.56776232, 0.57271312,\n",
              "       0.57764939, 0.58257021, 0.58747463, 0.59236175, 0.59723067,\n",
              "       0.6020805 , 0.60691036, 0.61171941, 0.6165068 , 0.62127171,\n",
              "       0.62601333, 0.63073087, 0.63542356, 0.64009064, 0.64473138,\n",
              "       0.64934507, 0.65393099, 0.65848849, 0.66301689, 0.66751557,\n",
              "       0.67198391, 0.6764213 , 0.68082717, 0.68520098, 0.68954217,\n",
              "       0.69385025, 0.69812472, 0.70236512, 0.70657098, 0.71074188,\n",
              "       0.71487743, 0.71897722, 0.7230409 , 0.72706813, 0.73105858])"
            ]
          },
          "metadata": {},
          "execution_count": 19
        }
      ],
      "source": [
        "sigmoid(x)"
      ]
    },
    {
      "cell_type": "code",
      "execution_count": null,
      "metadata": {
        "id": "Oik3jPB1_Dlw",
        "outputId": "8dd9dfff-f8c8-472a-a806-065e4692d9bc",
        "colab": {
          "base_uri": "https://localhost:8080/",
          "height": 282
        }
      },
      "outputs": [
        {
          "output_type": "execute_result",
          "data": {
            "text/plain": [
              "[<matplotlib.lines.Line2D at 0x7f7920c75d90>]"
            ]
          },
          "metadata": {},
          "execution_count": 20
        },
        {
          "output_type": "display_data",
          "data": {
            "text/plain": [
              "<Figure size 432x288 with 1 Axes>"
            ],
            "image/png": "[encoded data removed]"
          },
          "metadata": {
            "needs_background": "light"
          }
        }
      ],
      "source": [
        "plt.plot(x , sigmoid(20 * x))"
      ]
    },
    {
      "cell_type": "code",
      "execution_count": null,
      "metadata": {
        "id": "JIGc1ZGv_Dlx"
      },
      "outputs": [],
      "source": [
        "def sigmoid(x):\n",
        "    return (1- np.exp(-x))/(1+ np.exp(-x))"
      ]
    },
    {
      "cell_type": "code",
      "execution_count": null,
      "metadata": {
        "id": "rMD3jabH_Dly",
        "outputId": "cf046ef3-de0b-4b6a-c842-02e0203705c8",
        "colab": {
          "base_uri": "https://localhost:8080/",
          "height": 282
        }
      },
      "outputs": [
        {
          "output_type": "execute_result",
          "data": {
            "text/plain": [
              "[<matplotlib.lines.Line2D at 0x7f7920be9fd0>]"
            ]
          },
          "metadata": {},
          "execution_count": 22
        },
        {
          "output_type": "display_data",
          "data": {
            "text/plain": [
              "<Figure size 432x288 with 1 Axes>"
            ],
            "image/png": "[encoded data removed]"
          },
          "metadata": {
            "needs_background": "light"
          }
        }
      ],
      "source": [
        "plt.plot(x , sigmoid(20 * x))"
      ]
    },
    {
      "cell_type": "code",
      "execution_count": null,
      "metadata": {
        "id": "-E7Foqvl_Dlz"
      },
      "outputs": [],
      "source": [
        "import numpy as np\n",
        "import matplotlib.pyplot as plt\n",
        "from sklearn.linear_model import LogisticRegression\n",
        "from sklearn.model_selection import train_test_split\n",
        "from sklearn.metrics import accuracy_score\n",
        "np.random.seed(0)\n"
      ]
    },
    {
      "cell_type": "code",
      "execution_count": null,
      "metadata": {
        "id": "e2YO-WQS_Dlz"
      },
      "outputs": [],
      "source": [
        "def gen_target(X):\n",
        "    return X > 0.5"
      ]
    },
    {
      "cell_type": "code",
      "execution_count": null,
      "metadata": {
        "id": "SSxdYMMH_Dl0"
      },
      "outputs": [],
      "source": [
        "n_records = 300\n",
        "X =np.sort(np.random.rand(n_records))\n",
        "y =gen_target(X) \n",
        "X = X.reshape(-1,1)\n"
      ]
    },
    {
      "cell_type": "code",
      "execution_count": null,
      "metadata": {
        "id": "Xb0xRiLr_Dl1"
      },
      "outputs": [],
      "source": [
        "# import pandas as pd\n",
        "# data = pd.read_csv('Social_Network_Ads.csv')\n",
        "# data.head()\n"
      ]
    },
    {
      "cell_type": "code",
      "execution_count": null,
      "metadata": {
        "id": "udHpdM0N_Dl1"
      },
      "outputs": [],
      "source": [
        "# gen = {'Male': 1,'Female': 0}\n",
        "# data.replace(gen, inplace = True)\n",
        "# data.info()\n"
      ]
    },
    {
      "cell_type": "code",
      "source": [
        "# X = data[['EstimatedSalary']].values\n",
        "# y = data['Purchased'].values"
      ],
      "metadata": {
        "id": "PZ4zFQK1bICU"
      },
      "execution_count": null,
      "outputs": []
    },
    {
      "cell_type": "code",
      "source": [
        "print('Number of training examples: ',X.shape[0])\n",
        "print('Number of predictors: ', y.shape[1] if len(y.shape)>1 else 1)"
      ],
      "metadata": {
        "colab": {
          "base_uri": "https://localhost:8080/"
        },
        "id": "AnNF6RhibOt4",
        "outputId": "66aeadc4-121f-4c6d-ff59-14321c6433cc"
      },
      "execution_count": null,
      "outputs": [
        {
          "output_type": "stream",
          "name": "stdout",
          "text": [
            "Number of training examples:  300\n",
            "Number of predictors:  1\n"
          ]
        }
      ]
    },
    {
      "cell_type": "code",
      "source": [
        "X_train, X_test,y_train, y_test = train_test_split(X, y, test_size=0.2)\n",
        "\n",
        "lr = LogisticRegression()\n",
        "\n",
        "lr.fit(X_train, y_train)\n",
        " \n",
        "y_pred =lr.predict(X_test)"
      ],
      "metadata": {
        "id": "dx6DlQgVbloC"
      },
      "execution_count": null,
      "outputs": []
    },
    {
      "cell_type": "code",
      "source": [
        "print(\"Coefficients: \\n\")\n",
        "\n",
        "for ii, coef in enumerate(lr.coef_):\n",
        "    for jj, c in enumerate(coef):\n",
        "        print('Coeff-{0:2d}: {1:2.4f}'.format(jj, c))\n",
        "\n",
        "\n",
        "print('\\nAccuracy score: {:2.4f}'.format(accuracy_score(y_test, y_pred)))\n",
        "\n",
        "if X.shape[1]< 2:\n",
        "    plt.figure()\n",
        "    plt.scatter(X_test, y_test )\n",
        "    plt.scatter(X_test, y_pred,c = 'red')\n",
        "    plt.show()"
      ],
      "metadata": {
        "colab": {
          "base_uri": "https://localhost:8080/",
          "height": 352
        },
        "id": "a94NM5w2bozj",
        "outputId": "29ded9e4-5e61-49bb-83e9-e28b098ab88d"
      },
      "execution_count": null,
      "outputs": [
        {
          "output_type": "stream",
          "name": "stdout",
          "text": [
            "Coefficients: \n",
            "\n",
            "Coeff- 0: 6.9717\n",
            "\n",
            "Accuracy score: 0.9500\n"
          ]
        },
        {
          "output_type": "display_data",
          "data": {
            "text/plain": [
              "<Figure size 432x288 with 1 Axes>"
            ],
            "image/png": "[encoded data removed]"
          },
          "metadata": {
            "needs_background": "light"
          }
        }
      ]
    }
  ],
  "metadata": {
    "kernelspec": {
      "display_name": "Python 3",
      "language": "python",
      "name": "python3"
    },
    "language_info": {
      "codemirror_mode": {
        "name": "ipython",
        "version": 3
      },
      "file_extension": ".py",
      "mimetype": "text/x-python",
      "name": "python",
      "nbconvert_exporter": "python",
      "pygments_lexer": "ipython3",
      "version": "3.7.0"
    },
    "colab": {
      "provenance": []
    }
  },
  "nbformat": 4,
  "nbformat_minor": 0
}