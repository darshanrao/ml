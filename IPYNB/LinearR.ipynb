{
  "cells": [
    {
      "cell_type": "code",
      "execution_count": null,
      "metadata": {
        "id": "lpRwP4cWHEOd"
      },
      "outputs": [],
      "source": [
        "%matplotlib inline"
      ]
    },
    {
      "cell_type": "markdown",
      "metadata": {
        "id": "aaj5vtiuHEOh"
      },
      "source": [
        "# Linear Regression Model"
      ]
    },
    {
      "cell_type": "code",
      "execution_count": null,
      "metadata": {
        "id": "hyPAhw7pHEOj"
      },
      "outputs": [],
      "source": [
        "import numpy as np\n",
        "import matplotlib.pyplot as plt\n",
        "from sklearn.linear_model import LinearRegression\n",
        "from sklearn.model_selection import train_test_split # For evaluation\n",
        "from sklearn.metrics import mean_squared_error\n",
        "np.random.seed(0)"
      ]
    },
    {
      "cell_type": "markdown",
      "metadata": {
        "id": "lIICIZ9xHEOk"
      },
      "source": [
        "# Generate/Load data From dataset"
      ]
    },
    {
      "cell_type": "markdown",
      "metadata": {
        "id": "L9wChYFQHEOl"
      },
      "source": [
        "1.Load datasets available in sklearn"
      ]
    },
    {
      "cell_type": "code",
      "execution_count": null,
      "metadata": {
        "id": "N5FmiXjSHEOm"
      },
      "outputs": [],
      "source": [
        "# from sklearn import datasets\n",
        "# X,y = datasets.load_diabetes(return_X_y=True)"
      ]
    },
    {
      "cell_type": "markdown",
      "metadata": {
        "id": "L5TNlhzEHEOn"
      },
      "source": [
        "2.Loading external dataset"
      ]
    },
    {
      "cell_type": "code",
      "execution_count": null,
      "metadata": {
        "id": "geD8Q8ApHEOo"
      },
      "outputs": [],
      "source": [
        "# import pandas as pd\n",
        "# filename = 'winequality-red.csv'\n",
        "# data = pd.read_csv(filename,header = 0,delimiter=';')\n",
        "# X = data.values[:,:-1]\n",
        "# y = data.values[:,-1]"
      ]
    },
    {
      "cell_type": "markdown",
      "metadata": {
        "id": "jAAQr-YyHEOp"
      },
      "source": [
        "3.Generate own data"
      ]
    },
    {
      "cell_type": "code",
      "execution_count": null,
      "metadata": {
        "colab": {
          "base_uri": "https://localhost:8080/"
        },
        "id": "Tb6UarngHEOq",
        "outputId": "5e035f41-5b18-41d5-ad6f-94f57fa9ac0d"
      },
      "outputs": [
        {
          "output_type": "stream",
          "name": "stdout",
          "text": [
            "Number of training examples :  300\n",
            "Number of predictors :  1\n"
          ]
        }
      ],
      "source": [
        "def gen_target(X):\n",
        "    return (3.5 * X)+5\n",
        "n_records = 300 # Total number of records\n",
        "X = np.sort(np.random.rand(n_records)) # Randomly generate data points (features)\n",
        "y = gen_target(X) + np.random.randn(n_records) * 0.1 # Generate regression output with a\n",
        "X = X.reshape(-1,1)\n",
        "print('Number of training examples : ',X.shape[0])\n",
        "print('Number of predictors : ',y.shape[1] if len(y.shape)>1 else 1)"
      ]
    },
    {
      "cell_type": "markdown",
      "metadata": {
        "id": "YMRUPccxHEOs"
      },
      "source": [
        "# Bulid and Evaluate model"
      ]
    },
    {
      "cell_type": "markdown",
      "metadata": {
        "id": "kaVQY6z4HEOs"
      },
      "source": [
        "Linear regression model parameteres"
      ]
    },
    {
      "cell_type": "code",
      "execution_count": null,
      "metadata": {
        "colab": {
          "base_uri": "https://localhost:8080/",
          "height": 874
        },
        "id": "a7ZW7JgoHEOt",
        "outputId": "98ba1bd9-100c-4d9b-92ef-06d86073a3ff"
      },
      "outputs": [
        {
          "output_type": "stream",
          "name": "stdout",
          "text": [
            "Coefficients : \n",
            "\n",
            "Intercept : 0.0000\n",
            "Coef- 0 : 10.8209\n"
          ]
        },
        {
          "output_type": "stream",
          "name": "stderr",
          "text": [
            "/usr/local/lib/python3.7/dist-packages/sklearn/linear_model/_base.py:145: FutureWarning: 'normalize' was deprecated in version 1.0 and will be removed in 1.2.\n",
            "If you wish to scale the data, use Pipeline with a StandardScaler in a preprocessing stage. To reproduce the previous behavior:\n",
            "\n",
            "from sklearn.pipeline import make_pipeline\n",
            "\n",
            "model = make_pipeline(StandardScaler(with_mean=False), LinearRegression())\n",
            "\n",
            "If you wish to pass a sample_weight parameter, you need to pass it as a fit parameter to each step of the pipeline as follows:\n",
            "\n",
            "kwargs = {s[0] + '__sample_weight': sample_weight for s in model.steps}\n",
            "model.fit(X, y, **kwargs)\n",
            "\n",
            "\n",
            "  FutureWarning,\n"
          ]
        },
        {
          "output_type": "display_data",
          "data": {
            "text/plain": [
              "<Figure size 432x288 with 1 Axes>"
            ],
            "image/png": "[encoded data removed]"
          },
          "metadata": {
            "needs_background": "light"
          }
        },
        {
          "output_type": "stream",
          "name": "stdout",
          "text": [
            "\n",
            "Mean squared error: 7.8296\n"
          ]
        },
        {
          "output_type": "display_data",
          "data": {
            "text/plain": [
              "<Figure size 432x288 with 1 Axes>"
            ],
            "image/png": "[encoded data removed]"
          },
          "metadata": {
            "needs_background": "light"
          }
        }
      ],
      "source": [
        "X_train ,X_test , y_train,y_test = train_test_split(X,y,test_size=0.2)\n",
        "lr = LinearRegression(fit_intercept=False,normalize=True)\n",
        "lr.fit(X_train,y_train)\n",
        "y_pred = lr.predict(X_test)\n",
        "print(\"Coefficients : \\n\")\n",
        "print('Intercept : {0:2.4f}'.format(lr.intercept_))\n",
        "for ii,coef in enumerate(lr.coef_):\n",
        "    print('Coef-{0:2d} : {1:2.4f}'.format(ii,coef))\n",
        "plt.bar(range(len(lr.coef_)),lr.coef_)\n",
        "plt.xticks(range(len(lr.coef_)))\n",
        "plt.xlabel('Index')\n",
        "plt.ylabel('Coefficient')\n",
        "plt.show()\n",
        "print('\\nMean squared error: {:2.4f}'.format(mean_squared_error(y_test,y_pred)))\n",
        "if X.shape[1]<2:\n",
        "    plt.figure()\n",
        "    plt.scatter(X_test,y_test,color='black')\n",
        "    plt.plot(X_test,y_pred,color='blue',linewidth=3)\n",
        "    plt.show()\n"
      ]
    }
  ],
  "metadata": {
    "kernelspec": {
      "display_name": "Python 3",
      "language": "python",
      "name": "python3"
    },
    "language_info": {
      "codemirror_mode": {
        "name": "ipython",
        "version": 3
      },
      "file_extension": ".py",
      "mimetype": "text/x-python",
      "name": "python",
      "nbconvert_exporter": "python",
      "pygments_lexer": "ipython3",
      "version": "3.7.0"
    },
    "colab": {
      "provenance": []
    }
  },
  "nbformat": 4,
  "nbformat_minor": 0
}