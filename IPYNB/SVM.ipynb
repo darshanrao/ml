{
  "cells": [
    {
      "cell_type": "code",
      "execution_count": null,
      "metadata": {
        "id": "2vIbRGfBTbkI"
      },
      "outputs": [],
      "source": [
        "%matplotlib inline"
      ]
    },
    {
      "cell_type": "markdown",
      "metadata": {
        "id": "CSfQbxSCTbkL"
      },
      "source": [
        "# SVM"
      ]
    },
    {
      "cell_type": "code",
      "execution_count": null,
      "metadata": {
        "id": "AbN5LVAmTbkN"
      },
      "outputs": [],
      "source": [
        "import numpy as np  \n",
        "import matplotlib.pyplot as plt \n",
        "from sklearn.svm import SVC \n",
        "from sklearn.model_selection import train_test_split  # For evaluation\n",
        "from sklearn.metrics import accuracy_score"
      ]
    },
    {
      "cell_type": "code",
      "execution_count": null,
      "metadata": {
        "id": "FJxQdfKbTbkO"
      },
      "outputs": [],
      "source": [
        "np.random.seed(0)"
      ]
    },
    {
      "cell_type": "markdown",
      "metadata": {
        "id": "pfv2RX5LTbkP"
      },
      "source": [
        "# Generate/Load data From dataset"
      ]
    },
    {
      "cell_type": "markdown",
      "metadata": {
        "id": "b-LuoSA7TbkP"
      },
      "source": [
        "1.Load datasets available in sklearn"
      ]
    },
    {
      "cell_type": "code",
      "execution_count": null,
      "metadata": {
        "id": "poWMBZuFTbkQ"
      },
      "outputs": [],
      "source": [
        "# from sklearn import datasets\n",
        "# X,y = datasets.load_iris(return_X_y=True)\n",
        "# X = X[:,3].reshape(-1,1)"
      ]
    },
    {
      "cell_type": "markdown",
      "metadata": {
        "id": "w1C78zd6TbkR"
      },
      "source": [
        "2.Generate own data"
      ]
    },
    {
      "cell_type": "code",
      "execution_count": null,
      "metadata": {
        "id": "W-3xJpFmTbkS"
      },
      "outputs": [],
      "source": [
        "def gen_target(X):\n",
        "    return (X) > 0.5"
      ]
    },
    {
      "cell_type": "code",
      "execution_count": null,
      "metadata": {
        "id": "qAjZMYY1TbkT"
      },
      "outputs": [],
      "source": [
        "n_records = 300         # Total number of records\n",
        "X = np.sort(np.random.rand(n_records))    # Randomly generate data points (features\n",
        "y = gen_target(X)    # Generate regression output with additive noise\n",
        "X = X.reshape(-1,1)"
      ]
    },
    {
      "cell_type": "code",
      "execution_count": null,
      "metadata": {
        "colab": {
          "base_uri": "https://localhost:8080/"
        },
        "id": "tRNJr369TbkU",
        "outputId": "0ac7d8cb-2f31-47f0-8ffc-64f5fb6a1d21"
      },
      "outputs": [
        {
          "output_type": "stream",
          "name": "stdout",
          "text": [
            "Number of training examples :  300\n",
            "Number of predictors :  1\n"
          ]
        }
      ],
      "source": [
        "print('Number of training examples : ',X.shape[0])\n",
        "print('Number of predictors : ',y.shape[1] if len(y.shape)>1 else 1)"
      ]
    },
    {
      "cell_type": "markdown",
      "metadata": {
        "id": "FO5a3WEYTbkV"
      },
      "source": [
        "# Bulid and Evaluate model"
      ]
    },
    {
      "cell_type": "markdown",
      "metadata": {
        "id": "pge2BJO5TbkV"
      },
      "source": [
        "SVM model parameteres"
      ]
    },
    {
      "cell_type": "code",
      "execution_count": null,
      "metadata": {
        "colab": {
          "base_uri": "https://localhost:8080/"
        },
        "id": "AbqNs7UhTbkW",
        "outputId": "0014b823-0a53-4b1d-e551-8731f30fc6de"
      },
      "outputs": [
        {
          "output_type": "stream",
          "name": "stdout",
          "text": [
            "\n",
            "Accuracy Score: 0.9833\n"
          ]
        }
      ],
      "source": [
        "X_train ,X_test , y_train,y_test = train_test_split(X,y,test_size=0.2)\n",
        "sv = SVC(kernel='rbf',gamma=5,probability=True)\n",
        "sv.fit(X_train,y_train)\n",
        "y_pred = sv.predict(X_test)\n",
        "print('\\nAccuracy Score: {:2.4f}'.format(accuracy_score(y_test,y_pred)))"
      ]
    },
    {
      "cell_type": "code",
      "execution_count": null,
      "metadata": {
        "colab": {
          "base_uri": "https://localhost:8080/",
          "height": 265
        },
        "id": "JpZ_W0ukTbkW",
        "outputId": "7fa0579b-f039-4853-f50d-28c0a9cda4da"
      },
      "outputs": [
        {
          "output_type": "display_data",
          "data": {
            "text/plain": [
              "<Figure size 432x288 with 1 Axes>"
            ],
            "image/png": "[encoded data removed]"
          },
          "metadata": {
            "needs_background": "light"
          }
        }
      ],
      "source": [
        "if X.shape[1]<2:\n",
        "  plt.figure()\n",
        "  plt.scatter(X_train,y_train,color='red')\n",
        "  plt.scatter(X_test,y_pred,color='blue',linewidth=3)\n",
        "  plt.show()"
      ]
    },
    {
      "cell_type": "code",
      "execution_count": null,
      "metadata": {
        "colab": {
          "base_uri": "https://localhost:8080/"
        },
        "id": "CS-xNHQ2TbkX",
        "outputId": "31483fed-817e-4897-ab81-b22a9087c43e"
      },
      "outputs": [
        {
          "output_type": "execute_result",
          "data": {
            "text/plain": [
              "array([17, 17], dtype=int32)"
            ]
          },
          "metadata": {},
          "execution_count": 10
        }
      ],
      "source": [
        "sv.n_support_"
      ]
    },
    {
      "cell_type": "code",
      "execution_count": null,
      "metadata": {
        "colab": {
          "base_uri": "https://localhost:8080/"
        },
        "id": "XwYMsuV5TbkX",
        "outputId": "8868eb2d-d48f-4374-d8ab-0073323d6fc9"
      },
      "outputs": [
        {
          "output_type": "execute_result",
          "data": {
            "text/plain": [
              "(34, 1)"
            ]
          },
          "metadata": {},
          "execution_count": 11
        }
      ],
      "source": [
        "sv.support_vectors_.shape"
      ]
    },
    {
      "cell_type": "code",
      "execution_count": null,
      "metadata": {
        "colab": {
          "base_uri": "https://localhost:8080/"
        },
        "id": "9_dxYCH4TbkY",
        "outputId": "1dad368c-253e-4424-c2ac-ccb9369f7bee"
      },
      "outputs": [
        {
          "output_type": "execute_result",
          "data": {
            "text/plain": [
              "array([[9.99626585e-01, 3.73415161e-04],\n",
              "       [9.99642768e-01, 3.57231527e-04],\n",
              "       [1.41824567e-01, 8.58175433e-01],\n",
              "       [9.98202909e-01, 1.79709065e-03],\n",
              "       [9.98417957e-01, 1.58204271e-03],\n",
              "       [9.95967187e-01, 4.03281287e-03],\n",
              "       [9.19956141e-01, 8.00438594e-02],\n",
              "       [2.28971824e-06, 9.99997710e-01],\n",
              "       [8.04976580e-02, 9.19502342e-01],\n",
              "       [9.99629465e-01, 3.70535117e-04],\n",
              "       [9.99254722e-01, 7.45278266e-04],\n",
              "       [5.80546038e-07, 9.99999419e-01],\n",
              "       [3.87703517e-07, 9.99999612e-01],\n",
              "       [1.16106661e-05, 9.99988389e-01],\n",
              "       [7.55878741e-03, 9.92441213e-01],\n",
              "       [2.57497275e-03, 9.97425027e-01],\n",
              "       [3.77972289e-03, 9.96220277e-01],\n",
              "       [1.11990623e-06, 9.99998880e-01],\n",
              "       [3.51136505e-06, 9.99996489e-01],\n",
              "       [9.99606216e-01, 3.93784184e-04],\n",
              "       [1.46638439e-01, 8.53361561e-01],\n",
              "       [9.99664570e-01, 3.35430278e-04],\n",
              "       [1.93477870e-02, 9.80652213e-01],\n",
              "       [1.85069419e-01, 8.14930581e-01],\n",
              "       [3.54095233e-02, 9.64590477e-01],\n",
              "       [8.35694804e-07, 9.99999164e-01],\n",
              "       [2.61775253e-01, 7.38224747e-01],\n",
              "       [9.99467152e-01, 5.32848499e-04],\n",
              "       [9.99635956e-01, 3.64043955e-04],\n",
              "       [9.99671765e-01, 3.28234891e-04],\n",
              "       [9.98431033e-01, 1.56896667e-03],\n",
              "       [2.10153966e-06, 9.99997898e-01],\n",
              "       [1.73160101e-06, 9.99998268e-01],\n",
              "       [4.16170515e-02, 9.58382949e-01],\n",
              "       [2.18674118e-07, 9.99999781e-01],\n",
              "       [2.68469940e-01, 7.31530060e-01],\n",
              "       [2.18398441e-07, 9.99999782e-01],\n",
              "       [9.99490916e-01, 5.09084448e-04],\n",
              "       [4.18283828e-01, 5.81716172e-01],\n",
              "       [9.94054395e-01, 5.94560470e-03],\n",
              "       [2.82144933e-06, 9.99997179e-01],\n",
              "       [9.25226796e-06, 9.99990748e-01],\n",
              "       [4.21858499e-07, 9.99999578e-01],\n",
              "       [9.34945798e-01, 6.50542023e-02],\n",
              "       [2.17830854e-07, 9.99999782e-01],\n",
              "       [9.99200743e-01, 7.99257078e-04],\n",
              "       [9.99571760e-01, 4.28240373e-04],\n",
              "       [5.29904628e-03, 9.94700954e-01],\n",
              "       [9.99670270e-01, 3.29730072e-04],\n",
              "       [9.99665566e-01, 3.34433843e-04],\n",
              "       [9.43848998e-01, 5.61510023e-02],\n",
              "       [9.99590797e-01, 4.09202973e-04],\n",
              "       [9.99623257e-01, 3.76743000e-04],\n",
              "       [2.39504679e-06, 9.99997605e-01],\n",
              "       [1.20944144e-06, 9.99998791e-01],\n",
              "       [3.71628011e-06, 9.99996284e-01],\n",
              "       [1.29703276e-06, 9.99998703e-01],\n",
              "       [9.80881633e-06, 9.99990191e-01],\n",
              "       [9.43421379e-01, 5.65786215e-02],\n",
              "       [9.99198566e-01, 8.01433975e-04],\n",
              "       [1.09962455e-06, 9.99998900e-01],\n",
              "       [9.99662397e-01, 3.37602968e-04],\n",
              "       [9.99607113e-01, 3.92887465e-04],\n",
              "       [3.68542025e-06, 9.99996315e-01],\n",
              "       [5.32280539e-01, 4.67719461e-01],\n",
              "       [3.34813060e-03, 9.96651869e-01],\n",
              "       [3.15725051e-07, 9.99999684e-01],\n",
              "       [2.81109908e-07, 9.99999719e-01],\n",
              "       [2.24098879e-07, 9.99999776e-01],\n",
              "       [2.12085324e-06, 9.99997879e-01],\n",
              "       [9.99648353e-01, 3.51646884e-04],\n",
              "       [6.24290447e-06, 9.99993757e-01],\n",
              "       [9.99643026e-01, 3.56974184e-04],\n",
              "       [3.36864267e-07, 9.99999663e-01],\n",
              "       [3.08246226e-07, 9.99999692e-01],\n",
              "       [1.35161355e-06, 9.99998648e-01],\n",
              "       [5.23002260e-07, 9.99999477e-01],\n",
              "       [9.10129811e-01, 8.98701895e-02],\n",
              "       [9.15602450e-01, 8.43975497e-02],\n",
              "       [2.45187309e-06, 9.99997548e-01],\n",
              "       [9.99273475e-01, 7.26524736e-04],\n",
              "       [9.99467141e-01, 5.32858938e-04],\n",
              "       [7.78096832e-01, 2.21903168e-01],\n",
              "       [9.99578640e-01, 4.21359713e-04],\n",
              "       [9.99366861e-01, 6.33138892e-04],\n",
              "       [9.99462557e-01, 5.37443280e-04],\n",
              "       [2.25353219e-07, 9.99999775e-01],\n",
              "       [2.10561126e-06, 9.99997894e-01],\n",
              "       [1.20422154e-06, 9.99998796e-01],\n",
              "       [2.58983773e-07, 9.99999741e-01],\n",
              "       [9.96894328e-01, 3.10567213e-03],\n",
              "       [6.85334929e-07, 9.99999315e-01],\n",
              "       [1.11954267e-02, 9.88804573e-01],\n",
              "       [2.43898909e-02, 9.75610109e-01],\n",
              "       [4.92694023e-02, 9.50730598e-01],\n",
              "       [2.18075555e-07, 9.99999782e-01],\n",
              "       [9.99490552e-01, 5.09448246e-04],\n",
              "       [3.64110470e-06, 9.99996359e-01],\n",
              "       [5.33305506e-06, 9.99994667e-01],\n",
              "       [9.99597028e-01, 4.02971572e-04],\n",
              "       [1.76732211e-06, 9.99998233e-01],\n",
              "       [3.55387216e-06, 9.99996446e-01],\n",
              "       [9.99573410e-01, 4.26590042e-04],\n",
              "       [9.99022124e-01, 9.77876325e-04],\n",
              "       [7.83481297e-03, 9.92165187e-01],\n",
              "       [9.60015509e-01, 3.99844906e-02],\n",
              "       [9.11618871e-02, 9.08838113e-01],\n",
              "       [9.89378294e-01, 1.06217063e-02],\n",
              "       [2.83068885e-07, 9.99999717e-01],\n",
              "       [1.91741275e-06, 9.99998083e-01],\n",
              "       [8.65167837e-03, 9.91348322e-01],\n",
              "       [9.99374879e-01, 6.25120585e-04],\n",
              "       [9.98687872e-01, 1.31212821e-03],\n",
              "       [4.29735987e-02, 9.57026401e-01],\n",
              "       [9.21462876e-03, 9.90785371e-01],\n",
              "       [2.34473127e-07, 9.99999766e-01],\n",
              "       [2.12156178e-02, 9.78784382e-01],\n",
              "       [4.46926726e-02, 9.55307327e-01],\n",
              "       [9.98082841e-01, 1.91715945e-03],\n",
              "       [9.99459582e-01, 5.40418050e-04],\n",
              "       [9.98862891e-01, 1.13710919e-03],\n",
              "       [9.87086432e-01, 1.29135685e-02],\n",
              "       [9.99627677e-01, 3.72323313e-04],\n",
              "       [9.25015517e-07, 9.99999075e-01],\n",
              "       [9.99631006e-01, 3.68993666e-04],\n",
              "       [1.34264277e-06, 9.99998657e-01],\n",
              "       [9.99318988e-01, 6.81012005e-04],\n",
              "       [3.72915795e-07, 9.99999627e-01],\n",
              "       [9.99671112e-01, 3.28888021e-04],\n",
              "       [3.33511533e-02, 9.66648847e-01],\n",
              "       [2.74180950e-02, 9.72581905e-01],\n",
              "       [9.99127185e-01, 8.72814859e-04],\n",
              "       [1.16491117e-06, 9.99998835e-01],\n",
              "       [5.59805855e-07, 9.99999440e-01],\n",
              "       [9.98378144e-01, 1.62185605e-03],\n",
              "       [1.86318259e-06, 9.99998137e-01],\n",
              "       [9.99581458e-01, 4.18541550e-04],\n",
              "       [5.57285831e-01, 4.42714169e-01],\n",
              "       [7.39552280e-01, 2.60447720e-01],\n",
              "       [3.90249252e-06, 9.99996098e-01],\n",
              "       [9.94808827e-01, 5.19117300e-03],\n",
              "       [9.99662380e-01, 3.37619940e-04],\n",
              "       [6.74534280e-03, 9.93254657e-01],\n",
              "       [9.99644840e-01, 3.55160467e-04],\n",
              "       [3.62640407e-07, 9.99999637e-01],\n",
              "       [9.99670781e-01, 3.29218897e-04],\n",
              "       [9.98962525e-01, 1.03747481e-03],\n",
              "       [9.98177548e-01, 1.82245248e-03],\n",
              "       [6.02321188e-06, 9.99993977e-01],\n",
              "       [7.84445764e-06, 9.99992156e-01],\n",
              "       [9.99381442e-01, 6.18558395e-04],\n",
              "       [9.69753002e-01, 3.02469979e-02],\n",
              "       [2.26617594e-07, 9.99999773e-01],\n",
              "       [8.20193106e-03, 9.91798069e-01],\n",
              "       [9.99541241e-01, 4.58758978e-04],\n",
              "       [3.63721756e-07, 9.99999636e-01],\n",
              "       [2.54834881e-07, 9.99999745e-01],\n",
              "       [9.92168123e-01, 7.83187723e-03],\n",
              "       [4.71546507e-02, 9.52845349e-01],\n",
              "       [5.50345427e-06, 9.99994497e-01],\n",
              "       [9.98359415e-01, 1.64058505e-03],\n",
              "       [5.05947794e-03, 9.94940522e-01],\n",
              "       [9.94141440e-01, 5.85855960e-03],\n",
              "       [3.82335694e-02, 9.61766431e-01],\n",
              "       [9.60610065e-01, 3.93899355e-02],\n",
              "       [4.55124293e-06, 9.99995449e-01],\n",
              "       [2.60130740e-07, 9.99999740e-01],\n",
              "       [2.31251784e-07, 9.99999769e-01],\n",
              "       [2.39534130e-01, 7.60465870e-01],\n",
              "       [3.16617566e-03, 9.96833824e-01],\n",
              "       [4.12605501e-02, 9.58739450e-01],\n",
              "       [3.21158879e-01, 6.78841121e-01],\n",
              "       [7.26018261e-06, 9.99992740e-01],\n",
              "       [9.98842298e-01, 1.15770184e-03],\n",
              "       [7.65450836e-03, 9.92345492e-01],\n",
              "       [8.41364788e-01, 1.58635212e-01],\n",
              "       [2.67408882e-07, 9.99999733e-01],\n",
              "       [2.24266686e-02, 9.77573331e-01],\n",
              "       [1.26963894e-02, 9.87303611e-01],\n",
              "       [9.99668048e-01, 3.31951573e-04],\n",
              "       [9.99658498e-01, 3.41501807e-04],\n",
              "       [2.26486135e-02, 9.77351386e-01],\n",
              "       [9.98288198e-01, 1.71180219e-03],\n",
              "       [1.67435188e-05, 9.99983256e-01],\n",
              "       [9.79856179e-01, 2.01438213e-02],\n",
              "       [9.99569019e-01, 4.30981323e-04],\n",
              "       [5.10347717e-06, 9.99994897e-01],\n",
              "       [2.73377998e-06, 9.99997266e-01],\n",
              "       [5.82169516e-07, 9.99999418e-01],\n",
              "       [9.98425482e-01, 1.57451795e-03],\n",
              "       [9.99035027e-01, 9.64973052e-04],\n",
              "       [9.41612819e-01, 5.83871811e-02],\n",
              "       [3.04323469e-06, 9.99996957e-01],\n",
              "       [2.16321195e-07, 9.99999784e-01],\n",
              "       [9.99522374e-01, 4.77626223e-04],\n",
              "       [9.98980735e-01, 1.01926457e-03],\n",
              "       [9.99614054e-01, 3.85946426e-04],\n",
              "       [1.18103619e-02, 9.88189638e-01],\n",
              "       [9.97912452e-01, 2.08754785e-03],\n",
              "       [9.99650395e-01, 3.49604543e-04],\n",
              "       [2.27332553e-02, 9.77266745e-01],\n",
              "       [2.33418749e-01, 7.66581251e-01],\n",
              "       [9.98403250e-01, 1.59674967e-03],\n",
              "       [9.93308270e-01, 6.69172972e-03],\n",
              "       [8.40519179e-01, 1.59480821e-01],\n",
              "       [3.27880704e-07, 9.99999672e-01],\n",
              "       [7.23985841e-07, 9.99999276e-01],\n",
              "       [9.99278030e-01, 7.21970435e-04],\n",
              "       [9.96183890e-01, 3.81610973e-03],\n",
              "       [9.92424546e-01, 7.57545387e-03],\n",
              "       [2.27069730e-06, 9.99997729e-01],\n",
              "       [2.64891187e-03, 9.97351088e-01],\n",
              "       [2.06153267e-06, 9.99997938e-01],\n",
              "       [2.24221149e-07, 9.99999776e-01],\n",
              "       [9.99555314e-01, 4.44685641e-04],\n",
              "       [9.98756979e-01, 1.24302062e-03],\n",
              "       [9.28289963e-01, 7.17100372e-02],\n",
              "       [7.92726231e-01, 2.07273769e-01],\n",
              "       [2.56829326e-03, 9.97431707e-01],\n",
              "       [9.56592140e-06, 9.99990434e-01],\n",
              "       [2.28620409e-07, 9.99999771e-01],\n",
              "       [7.21192358e-07, 9.99999279e-01],\n",
              "       [9.99473015e-01, 5.26985440e-04],\n",
              "       [3.18109910e-02, 9.68189009e-01],\n",
              "       [6.08632196e-06, 9.99993914e-01],\n",
              "       [9.98299421e-01, 1.70057933e-03],\n",
              "       [8.26542591e-01, 1.73457409e-01],\n",
              "       [7.59358574e-03, 9.92406414e-01],\n",
              "       [9.99454081e-01, 5.45919027e-04],\n",
              "       [9.11930091e-01, 8.80699091e-02],\n",
              "       [5.55643114e-07, 9.99999444e-01],\n",
              "       [8.73296900e-01, 1.26703100e-01],\n",
              "       [7.05879437e-07, 9.99999294e-01],\n",
              "       [6.24271274e-07, 9.99999376e-01],\n",
              "       [1.54800731e-06, 9.99998452e-01],\n",
              "       [9.90583009e-01, 9.41699051e-03],\n",
              "       [9.98893496e-01, 1.10650397e-03],\n",
              "       [5.24684854e-07, 9.99999475e-01],\n",
              "       [9.99641986e-01, 3.58014100e-04],\n",
              "       [9.99640022e-01, 3.59977923e-04]])"
            ]
          },
          "metadata": {},
          "execution_count": 12
        }
      ],
      "source": [
        "sv.predict_proba(X_train)"
      ]
    }
  ],
  "metadata": {
    "kernelspec": {
      "display_name": "Python 3",
      "language": "python",
      "name": "python3"
    },
    "language_info": {
      "codemirror_mode": {
        "name": "ipython",
        "version": 3
      },
      "file_extension": ".py",
      "mimetype": "text/x-python",
      "name": "python",
      "nbconvert_exporter": "python",
      "pygments_lexer": "ipython3",
      "version": "3.7.0"
    },
    "colab": {
      "provenance": []
    }
  },
  "nbformat": 4,
  "nbformat_minor": 0
}